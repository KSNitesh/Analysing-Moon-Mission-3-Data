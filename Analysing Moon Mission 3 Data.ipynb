{
 "cells": [
  {
   "cell_type": "code",
   "execution_count": 82,
   "metadata": {},
   "outputs": [],
   "source": [
    "import pandas as pd\n",
    "import numpy as np\n",
    "import seaborn as sns \n",
    "import matplotlib.pyplot as plt\n",
    "import re\n",
    "import math"
   ]
  },
  {
   "cell_type": "code",
   "execution_count": null,
   "metadata": {},
   "outputs": [],
   "source": [
    "df = pd.read_csv(\"Moon Mission.csv\")\n",
    "df['Parameter']\n"
   ]
  },
  {
   "cell_type": "code",
   "execution_count": 61,
   "metadata": {},
   "outputs": [],
   "source": [
    "data = {\"Parameter\": [ 'Lunar Polar Orbit',\n",
    "                    'Mission life',\n",
    "                    'Structure',\n",
    "                    'Dry Mass',\n",
    "                    'Propellant Mass',\n",
    "                    'Total PM Mass',\n",
    "                    'Power Generation',\n",
    "                    'Communication',\n",
    "                    'Attitude Sensors',\n",
    "                    'Propulsion System'],\n",
    "        \n",
    "        \"Specification\": [ 'From 170 x 36500 km to lunar polar orbit',\n",
    "                        'Carrying Lander Module & Rover upto ~100 x 100...',\n",
    "                        'Modified version of I-3 K',\n",
    "                        '448.62 kg (including pressurant)',\n",
    "                        '1696.39 kg',\n",
    "                        '2145.01 kg',\n",
    "                        '738 W, Summer solistices and with bias',\n",
    "                        'S-Band Transponder (TTC) – with IDSN',\n",
    "                        'CASS, IRAP, Micro star sensor',\n",
    "                        'Bi-Propellant Propulsion System (MMH + MON3)']\n",
    "        }"
   ]
  },
  {
   "cell_type": "code",
   "execution_count": null,
   "metadata": {},
   "outputs": [],
   "source": [
    "propulsion_df = pd.DataFrame(data)\n",
    "propulsion_df"
   ]
  },
  {
   "cell_type": "code",
   "execution_count": 66,
   "metadata": {},
   "outputs": [],
   "source": [
    "data = {\"Parameter\": [  'Mission life',\n",
    "                    'Mass',\n",
    "                    'Power',\n",
    "                    'Payloads',\n",
    "                    'Dimensions (mm3)',\n",
    "                    'Communication',\n",
    "                    'Landing site'],\n",
    "        \n",
    "        \"Specification\": [ '1 Lunar day (14 Earth days)',\n",
    "                        '1749.86 kg including Rover',\n",
    "                        '738 W (Winter solstice)',\n",
    "                        '3',\n",
    "                        '2000 x 2000 x 1166',\n",
    "                        'ISDN, Ch-2 Orbiter, Rover',\n",
    "                        '69.367621 S, 32.348126 E' ]\n",
    "        }"
   ]
  },
  {
   "cell_type": "code",
   "execution_count": null,
   "metadata": {},
   "outputs": [],
   "source": [
    "lander_df = pd.DataFrame(data)\n",
    "lander_df"
   ]
  },
  {
   "cell_type": "code",
   "execution_count": 68,
   "metadata": {},
   "outputs": [],
   "source": [
    "data = {\"Parameter\": [  'Mission life',\n",
    "                    'Mass',\n",
    "                    'Power',\n",
    "                    'Payloads',\n",
    "                    'Dimensions (mm3)',\n",
    "                    'Communication'],\n",
    "        \n",
    "        \"Specification\": [ '1 Lunar day',\n",
    "                        '26 kg',\n",
    "                        '50W',\n",
    "                        '2',\n",
    "                        '917*750*397',\n",
    "                        'Lander']\n",
    "        }"
   ]
  },
  {
   "cell_type": "code",
   "execution_count": null,
   "metadata": {},
   "outputs": [],
   "source": [
    "rover_df = pd.DataFrame(data)\n",
    "rover_df"
   ]
  },
  {
   "cell_type": "code",
   "execution_count": 72,
   "metadata": {},
   "outputs": [],
   "source": [
    "def extract_numerical_value(spec):\n",
    "    numeric_pattern = r'(\\d+(\\.\\d+)?)'\n",
    "    custom_numeric_pattern = r\"[-+]?[.]?[\\d]+(?:,\\d\\d\\d)*[\\.]?\\d*(?:[eE][-+]?\\d+)?\"\n",
    "    combined_pattern = f\"({numeric_pattern}|{custom_numeric_pattern})\"\n",
    "    \n",
    "    matches = re.findall(combined_pattern,spec)\n",
    "    \n",
    "    if matches:\n",
    "        return float(matches[0][0])\n",
    "    else:\n",
    "        return None"
   ]
  },
  {
   "cell_type": "code",
   "execution_count": null,
   "metadata": {},
   "outputs": [],
   "source": [
    "propulsion_df[\"numerical value\"] = propulsion_df[\"Specification\"].apply(extract_numerical_value)\n",
    "propulsion_df"
   ]
  },
  {
   "cell_type": "code",
   "execution_count": null,
   "metadata": {},
   "outputs": [],
   "source": [
    "lander_df[\"numerical value\"] = lander_df[\"Specification\"].apply(extract_numerical_value)\n",
    "lander_df"
   ]
  },
  {
   "cell_type": "code",
   "execution_count": null,
   "metadata": {},
   "outputs": [],
   "source": [
    "rover_df[\"numerical value\"] = rover_df[\"Specification\"].apply(extract_numerical_value)\n",
    "rover_df"
   ]
  },
  {
   "cell_type": "code",
   "execution_count": 83,
   "metadata": {},
   "outputs": [],
   "source": [
    "rover_mass = 26\n",
    "lander_dry_mass = 1749.86\n",
    "total_mass = rover_mass + lander_dry_mass\n",
    "required_data = 1500\n",
    "isp_lander_engine = 300\n",
    "\n",
    "propellent_mass_required = total_mass * math.exp(required_data/isp_lander_engine)-total_mass\n",
    "propellent_mass_required = round(propellent_mass_required)"
   ]
  },
  {
   "cell_type": "code",
   "execution_count": 84,
   "metadata": {},
   "outputs": [],
   "source": [
    "rover_power_requirement = 50\n",
    "lander_battery_capacity = 2000\n",
    "\n",
    "rover_operating_timeHours = lander_battery_capacity / rover_power_requirement"
   ]
  },
  {
   "cell_type": "code",
   "execution_count": null,
   "metadata": {},
   "outputs": [],
   "source": [
    "labels = ['Laner Dry Mass','Rover Mass','Propellant Mass']\n",
    "mass_values = [lander_dry_mass,rover_mass,propellent_mass_required]\n",
    "\n",
    "plt.figure(figsize=(8,6))\n",
    "plt.bar(labels,mass_values,color=['blue','black','red'])\n",
    "plt.xlabel('Component')\n",
    "plt.ylabel('Mass(Kg)')\n",
    "plt.title('Mass Budget')\n",
    "plt.ylim(0,max(mass_values)*1.2)\n",
    "\n",
    "for i,v in enumerate(mass_values):\n",
    "    plt.text(i,v,str(v),ha = 'center',va = 'bottom')\n",
    "    \n",
    "plt.show()"
   ]
  },
  {
   "cell_type": "code",
   "execution_count": null,
   "metadata": {},
   "outputs": [],
   "source": [
    "labels = ['Rover Power Requirement','Lander Battery Capacity']\n",
    "power_values = [rover_power_requirement,lander_battery_capacity]\n",
    "\n",
    "plt.figure(figsize=(8,6))\n",
    "plt.bar(labels,power_values,color=['blue','red'])\n",
    "plt.xlabel('Component')\n",
    "plt.ylabel('Power(Watt-Hours)')\n",
    "plt.title('Power Budget')\n",
    "plt.ylim(0,max(power_values)*1.2)\n",
    "\n",
    "for i,v in enumerate(power_values):\n",
    "    plt.text(i,v,str(v),ha = 'center',va = 'bottom')\n",
    "    \n",
    "plt.show()"
   ]
  }
 ],
 "metadata": {
  "kernelspec": {
   "display_name": "base",
   "language": "python",
   "name": "python3"
  },
  "language_info": {
   "codemirror_mode": {
    "name": "ipython",
    "version": 3
   },
   "file_extension": ".py",
   "mimetype": "text/x-python",
   "name": "python",
   "nbconvert_exporter": "python",
   "pygments_lexer": "ipython3",
   "version": "3.12.7"
  }
 },
 "nbformat": 4,
 "nbformat_minor": 2
}
